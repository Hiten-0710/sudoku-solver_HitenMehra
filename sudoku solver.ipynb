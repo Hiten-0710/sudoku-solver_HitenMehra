{
  "nbformat": 4,
  "nbformat_minor": 0,
  "metadata": {
    "colab": {
      "provenance": []
    },
    "kernelspec": {
      "name": "python3",
      "display_name": "Python 3"
    },
    "language_info": {
      "name": "python"
    }
  },
  "cells": [
    {
      "cell_type": "code",
      "execution_count": null,
      "metadata": {
        "colab": {
          "base_uri": "https://localhost:8080/"
        },
        "id": "rjiU8Wsgruxo",
        "outputId": "57adef16-7456-488f-daf1-20d1e5473209"
      },
      "outputs": [
        {
          "output_type": "stream",
          "name": "stdout",
          "text": [
            "Enter Sudoku puzzle row by row (use 0 for empty cells):\n"
          ]
        }
      ],
      "source": [
        "def is_valid(board, row, col, num):\n",
        "    for i in range(9):\n",
        "        if board[row][i] == num or board[i][col] == num:\n",
        "            return False\n",
        "\n",
        "    start_row, start_col = 3 * (row // 3), 3 * (col // 3)\n",
        "    for i in range(3):\n",
        "        for j in range(3):\n",
        "            if board[start_row + i][start_col + j] == num:\n",
        "                return False\n",
        "\n",
        "    return True\n",
        "\n",
        "def solve_sudoku(board):\n",
        "    for row in range(9):\n",
        "        for col in range(9):\n",
        "            if board[row][col] == 0:\n",
        "                for num in range(1, 10):\n",
        "                    if is_valid(board, row, col, num):\n",
        "                        board[row][col] = num\n",
        "                        if solve_sudoku(board):\n",
        "                            return True\n",
        "                        board[row][col] = 0\n",
        "                return False\n",
        "    return True\n",
        "\n",
        "def print_board(board):\n",
        "    for row in board:\n",
        "        print(\" \".join(str(num) if num != 0 else '.' for num in row))\n",
        "\n",
        "def get_user_input():\n",
        "    board = []\n",
        "    print(\"Enter Sudoku puzzle row by row (use 0 for empty cells):\")\n",
        "    for _ in range(9):\n",
        "        row = list(map(int, input().split()))\n",
        "        board.append(row)\n",
        "    return board\n",
        "\n",
        "if __name__ == \"__main__\":\n",
        "    sudoku_board = get_user_input()\n",
        "    print(\"\\nSudoku Puzzle:\")\n",
        "    print_board(sudoku_board)\n",
        "\n",
        "    if solve_sudoku(sudoku_board):\n",
        "        print(\"\\nSolved Sudoku:\")\n",
        "        print_board(sudoku_board)\n",
        "    else:\n",
        "        print(\"\\nNo solution exists.\")\n"
      ]
    }
  ]
}